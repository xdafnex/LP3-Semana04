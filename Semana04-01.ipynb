{
 "cells": [
  {
   "cell_type": "raw",
   "id": "ac6d7cb3-696d-447c-9360-d475cd4fe9bf",
   "metadata": {},
   "source": [
    "#SEMANA 04\n",
    "Dafne Huertas Gonzales"
   ]
  },
  {
   "cell_type": "raw",
   "id": "541b0065-2676-44c4-8c14-9569e4b8b007",
   "metadata": {},
   "source": [
    "Agenda\n",
    "1.Numeros\n",
    "2.Variables\n",
    "3.Manejo de cadenas\n",
    "4.Ingreso por el teclado\n",
    "5.Operadoress"
   ]
  },
  {
   "cell_type": "raw",
   "id": "a8c66112-0033-47bb-99e0-b1dd5f083031",
   "metadata": {},
   "source": [
    "1. Numeros"
   ]
  },
  {
   "cell_type": "code",
   "execution_count": 1,
   "id": "113f5ef8-2672-449a-a556-ec56830d5aa1",
   "metadata": {},
   "outputs": [
    {
     "data": {
      "text/plain": [
       "16"
      ]
     },
     "execution_count": 1,
     "metadata": {},
     "output_type": "execute_result"
    }
   ],
   "source": [
    "7+9"
   ]
  },
  {
   "cell_type": "code",
   "execution_count": 2,
   "id": "7ddf5e1f-1c8f-44cc-9743-5a50c77eb21e",
   "metadata": {},
   "outputs": [
    {
     "data": {
      "text/plain": [
       "11"
      ]
     },
     "execution_count": 2,
     "metadata": {},
     "output_type": "execute_result"
    }
   ],
   "source": [
    "36-25"
   ]
  },
  {
   "cell_type": "code",
   "execution_count": 3,
   "id": "4c9a2353-5448-49c2-b01c-61fd4a0f5c69",
   "metadata": {
    "scrolled": true
   },
   "outputs": [
    {
     "data": {
      "text/plain": [
       "280"
      ]
     },
     "execution_count": 3,
     "metadata": {},
     "output_type": "execute_result"
    }
   ],
   "source": [
    "35*8"
   ]
  },
  {
   "cell_type": "code",
   "execution_count": 4,
   "id": "4ccd64f2-009d-41b6-bf29-cbf5249d9882",
   "metadata": {},
   "outputs": [
    {
     "data": {
      "text/plain": [
       "8.0"
      ]
     },
     "execution_count": 4,
     "metadata": {},
     "output_type": "execute_result"
    }
   ],
   "source": [
    "72/9"
   ]
  },
  {
   "cell_type": "code",
   "execution_count": null,
   "id": "c2c23ab0-129a-45f5-a3d9-bab125f0f1a9",
   "metadata": {},
   "outputs": [],
   "source": []
  }
 ],
 "metadata": {
  "kernelspec": {
   "display_name": "Python 3 (ipykernel)",
   "language": "python",
   "name": "python3"
  },
  "language_info": {
   "codemirror_mode": {
    "name": "ipython",
    "version": 3
   },
   "file_extension": ".py",
   "mimetype": "text/x-python",
   "name": "python",
   "nbconvert_exporter": "python",
   "pygments_lexer": "ipython3",
   "version": "3.11.7"
  }
 },
 "nbformat": 4,
 "nbformat_minor": 5
}
