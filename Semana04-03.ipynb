{
 "cells": [
  {
   "cell_type": "raw",
   "id": "972b98ff-4c6d-436b-b45a-570b9c84bce0",
   "metadata": {},
   "source": [
    "#Semana 04\n",
    "Dafne Huertas"
   ]
  },
  {
   "cell_type": "raw",
   "id": "1fcef1e9-3e6d-4362-8e21-a334e3c5d756",
   "metadata": {},
   "source": [
    "Agenda\n",
    "1.Numeros\n",
    "2.Variables\n",
    "3.Manejo de cadenas\n",
    "4.Ingreso por el teclado\n",
    "5.Operadoress"
   ]
  },
  {
   "cell_type": "raw",
   "id": "07ed5f43-28f7-4739-8f74-6dd14c6d7694",
   "metadata": {},
   "source": [
    "3. Manjeo de cadenas"
   ]
  },
  {
   "cell_type": "code",
   "execution_count": 1,
   "id": "1588a708-fa3f-42df-92cc-787481aab40b",
   "metadata": {},
   "outputs": [
    {
     "data": {
      "text/plain": [
       "'Universidad nacional tecnologica de lima sur'"
      ]
     },
     "execution_count": 1,
     "metadata": {},
     "output_type": "execute_result"
    }
   ],
   "source": [
    "cadena = \"Universidad nacional tecnologica de lima sur\"\n",
    "cadena"
   ]
  },
  {
   "cell_type": "code",
   "execution_count": 2,
   "id": "72cc1abf-ba15-43a3-bd89-cef6d7a2fdd3",
   "metadata": {},
   "outputs": [],
   "source": [
    "#Universidad nacional tecnologica de lima sur\n",
    "#123456....\n",
    "#"
   ]
  },
  {
   "cell_type": "code",
   "execution_count": 3,
   "id": "d3fac2ff-1e0c-4a6f-8aab-43b897898a5b",
   "metadata": {},
   "outputs": [
    {
     "data": {
      "text/plain": [
       "'r'"
      ]
     },
     "execution_count": 3,
     "metadata": {},
     "output_type": "execute_result"
    }
   ],
   "source": [
    "cadena[5]"
   ]
  },
  {
   "cell_type": "code",
   "execution_count": 4,
   "id": "533cab57-0a9c-4dbb-892d-e8e090d2bcc9",
   "metadata": {},
   "outputs": [
    {
     "data": {
      "text/plain": [
       "'d'"
      ]
     },
     "execution_count": 4,
     "metadata": {},
     "output_type": "execute_result"
    }
   ],
   "source": [
    "cadena[10]"
   ]
  },
  {
   "cell_type": "code",
   "execution_count": 5,
   "id": "fd12df06-b581-4669-92a3-54d94c21b5bf",
   "metadata": {},
   "outputs": [
    {
     "data": {
      "text/plain": [
       "' '"
      ]
     },
     "execution_count": 5,
     "metadata": {},
     "output_type": "execute_result"
    }
   ],
   "source": [
    "cadena[11]"
   ]
  },
  {
   "cell_type": "code",
   "execution_count": 6,
   "id": "755a7e41-c0c5-4a8f-b664-95279e62e515",
   "metadata": {},
   "outputs": [
    {
     "data": {
      "text/plain": [
       "'a'"
      ]
     },
     "execution_count": 6,
     "metadata": {},
     "output_type": "execute_result"
    }
   ],
   "source": [
    "cadena[-5]\n"
   ]
  },
  {
   "cell_type": "code",
   "execution_count": 7,
   "id": "51f0a0b7-9dc2-45d8-9a51-3bb6f60bc6b9",
   "metadata": {},
   "outputs": [
    {
     "data": {
      "text/plain": [
       "'t'"
      ]
     },
     "execution_count": 7,
     "metadata": {},
     "output_type": "execute_result"
    }
   ],
   "source": [
    "cadena[21]"
   ]
  },
  {
   "cell_type": "code",
   "execution_count": 8,
   "id": "e1061493-fcb8-4125-b21c-3496ec17871a",
   "metadata": {},
   "outputs": [
    {
     "data": {
      "text/plain": [
       "'t'"
      ]
     },
     "execution_count": 8,
     "metadata": {},
     "output_type": "execute_result"
    }
   ],
   "source": [
    "cadena[-23]"
   ]
  },
  {
   "cell_type": "code",
   "execution_count": 9,
   "id": "ae857b71-6776-42b9-82ff-b1586ee6ea4d",
   "metadata": {},
   "outputs": [
    {
     "data": {
      "text/plain": [
       "'versi'"
      ]
     },
     "execution_count": 9,
     "metadata": {},
     "output_type": "execute_result"
    }
   ],
   "source": [
    "#Para mostrar una subcadena [desde, hasta una antes]\n",
    "cadena[3:8]\n"
   ]
  },
  {
   "cell_type": "code",
   "execution_count": 10,
   "id": "9c865a59-6b86-4b6e-ab94-4dc7fae81853",
   "metadata": {},
   "outputs": [
    {
     "data": {
      "text/plain": [
       "44"
      ]
     },
     "execution_count": 10,
     "metadata": {},
     "output_type": "execute_result"
    }
   ],
   "source": [
    "#tamaño de cadena\n",
    "len(cadena)\n"
   ]
  },
  {
   "cell_type": "code",
   "execution_count": 11,
   "id": "a3a60a6b-8f23-41b9-ae20-ad7278422b48",
   "metadata": {},
   "outputs": [
    {
     "data": {
      "text/plain": [
       "<function str.upper()>"
      ]
     },
     "execution_count": 11,
     "metadata": {},
     "output_type": "execute_result"
    }
   ],
   "source": [
    "#Para mostarr una cadena en mayuscula\n",
    "cadena.upper"
   ]
  },
  {
   "cell_type": "code",
   "execution_count": 12,
   "id": "3d5d1a48-39da-4cc2-a304-d73aa7a400d2",
   "metadata": {},
   "outputs": [
    {
     "data": {
      "text/plain": [
       "'UNIVERSIDAD NACIONAL TECNOLOGICA DE LIMA SUR'"
      ]
     },
     "execution_count": 12,
     "metadata": {},
     "output_type": "execute_result"
    }
   ],
   "source": [
    "cadena.upper()"
   ]
  },
  {
   "cell_type": "code",
   "execution_count": 13,
   "id": "b4e8b589-2351-4bf2-914f-e45b55ecc159",
   "metadata": {},
   "outputs": [
    {
     "data": {
      "text/plain": [
       "'universidad nacional tecnologica de lima sur'"
      ]
     },
     "execution_count": 13,
     "metadata": {},
     "output_type": "execute_result"
    }
   ],
   "source": [
    "cadena.lower()"
   ]
  },
  {
   "cell_type": "code",
   "execution_count": 14,
   "id": "78cb8113-1e84-4f02-9a68-06db226e0c82",
   "metadata": {},
   "outputs": [
    {
     "data": {
      "text/plain": [
       "'Universidad nacional tecnologica de lima sur'"
      ]
     },
     "execution_count": 14,
     "metadata": {},
     "output_type": "execute_result"
    }
   ],
   "source": [
    "cadena"
   ]
  },
  {
   "cell_type": "code",
   "execution_count": 15,
   "id": "338b5155-dfad-494b-8c19-682becdbed44",
   "metadata": {},
   "outputs": [
    {
     "data": {
      "text/plain": [
       "['Universidad', 'nacional', 'tecnologica', 'de', 'lima', 'sur']"
      ]
     },
     "execution_count": 15,
     "metadata": {},
     "output_type": "execute_result"
    }
   ],
   "source": [
    "#generar una lista a partir de una cadena. split()\n",
    "cadena.split()"
   ]
  },
  {
   "cell_type": "code",
   "execution_count": 17,
   "id": "9a7816b4-55f2-4c60-be31-e40b8b2323ff",
   "metadata": {},
   "outputs": [
    {
     "data": {
      "text/plain": [
       "['Universid', 'd n', 'cion', 'l tecnologic', ' de lim', ' sur']"
      ]
     },
     "execution_count": 17,
     "metadata": {},
     "output_type": "execute_result"
    }
   ],
   "source": [
    "cadena.split(\"a\")"
   ]
  },
  {
   "cell_type": "code",
   "execution_count": 23,
   "id": "771c0cd9-937b-4cc8-8316-47294d393215",
   "metadata": {},
   "outputs": [
    {
     "name": "stdout",
     "output_type": "stream",
     "text": [
      "Buenas Tardes Dafne Huertas tienes 19 años\n"
     ]
    }
   ],
   "source": [
    "nombre = \"Dafne Huertas\"\n",
    "edad = 19\n",
    "años = str(edad)\n",
    "print(\"Buenas Tardes \" + nombre + \" tienes \" + años + \" años\")"
   ]
  },
  {
   "cell_type": "code",
   "execution_count": 25,
   "id": "2c1fc49d-e414-41fe-a209-33e71e9dfce5",
   "metadata": {},
   "outputs": [
    {
     "name": "stdout",
     "output_type": "stream",
     "text": [
      "10/3 es = 3.3333333333333335 \n",
      "10/3 es = 3.33 \n"
     ]
    }
   ],
   "source": [
    "#dar formato a numeros con muchos decimales\n",
    "resultado = 10/3\n",
    "print(\"10/3 es = {} \".format(resultado))\n",
    "print(\"10/3 es = {r:1.2f} \".format(r=resultado))"
   ]
  },
  {
   "cell_type": "code",
   "execution_count": 26,
   "id": "51c14cb9-73c9-42e9-8f05-cf7aa9241f40",
   "metadata": {},
   "outputs": [
    {
     "name": "stdout",
     "output_type": "stream",
     "text": [
      "Buenos dias Dafne Huertas, ya que se que tienes 19 años\n"
     ]
    }
   ],
   "source": [
    "#dar formato con f\n",
    "nombre = \"Dafne Huertas\"\n",
    "edad = 19\n",
    "print(f\"Buenos dias {nombre}, ya que se que tienes {edad} años\")"
   ]
  },
  {
   "cell_type": "code",
   "execution_count": null,
   "id": "f914b265-b891-4ed5-8ac3-1eeae30bd314",
   "metadata": {},
   "outputs": [],
   "source": []
  }
 ],
 "metadata": {
  "kernelspec": {
   "display_name": "Python 3 (ipykernel)",
   "language": "python",
   "name": "python3"
  },
  "language_info": {
   "codemirror_mode": {
    "name": "ipython",
    "version": 3
   },
   "file_extension": ".py",
   "mimetype": "text/x-python",
   "name": "python",
   "nbconvert_exporter": "python",
   "pygments_lexer": "ipython3",
   "version": "3.11.7"
  }
 },
 "nbformat": 4,
 "nbformat_minor": 5
}
