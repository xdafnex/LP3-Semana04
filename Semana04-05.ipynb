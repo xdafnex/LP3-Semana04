{
 "cells": [
  {
   "cell_type": "raw",
   "id": "eb61a751-4839-4f9f-8bcb-bc7c0868e42c",
   "metadata": {},
   "source": [
    "Agenda\n",
    "1.Numeros\n",
    "2.Variables\n",
    "3.Manejo de cadenas\n",
    "4.Ingreso por el teclado\n",
    "5.Operadoress"
   ]
  },
  {
   "cell_type": "raw",
   "id": "6c35b02e-9dcc-4118-87d0-a2c0d21edf7d",
   "metadata": {},
   "source": [
    "5. Operadores"
   ]
  },
  {
   "cell_type": "code",
   "execution_count": 1,
   "id": "043b5699-700f-4494-a9bf-7054387e4f28",
   "metadata": {},
   "outputs": [],
   "source": [
    "#5.1 operadores aritmeticos"
   ]
  },
  {
   "cell_type": "code",
   "execution_count": 6,
   "id": "f47ce242-acb2-4b80-8c26-4090f4afe342",
   "metadata": {},
   "outputs": [
    {
     "name": "stdout",
     "output_type": "stream",
     "text": [
      "23\n",
      "-3\n",
      "130\n",
      "0.7692307692307693\n",
      "10\n",
      "0\n",
      "10000000000000\n"
     ]
    }
   ],
   "source": [
    "numero1 = 10\n",
    "numero2 = 13\n",
    "suma = numero1 + numero2\n",
    "resta = numero1 - numero2\n",
    "multi = numero1 * numero2\n",
    "div = numero1 / numero2\n",
    "residuo = numero1 % numero2\n",
    "cociente = numero1 // numero2\n",
    "potencia = numero1 ** numero2\n",
    "print(suma)\n",
    "print(resta)\n",
    "print(multi)\n",
    "print(div)\n",
    "print(residuo)\n",
    "print(cociente)\n",
    "print(potencia)"
   ]
  },
  {
   "cell_type": "code",
   "execution_count": 8,
   "id": "8d68984b-f0ed-4354-99ca-1c169515330a",
   "metadata": {},
   "outputs": [
    {
     "name": "stdout",
     "output_type": "stream",
     "text": [
      "13\n"
     ]
    }
   ],
   "source": [
    "# 5.2 Operadores de asignación\n",
    "numero = 10\n",
    "numero = numero + 3\n",
    "print(numero)"
   ]
  },
  {
   "cell_type": "code",
   "execution_count": 9,
   "id": "cceae0b9-36da-41fb-8774-8df2ccf057a8",
   "metadata": {},
   "outputs": [
    {
     "name": "stdout",
     "output_type": "stream",
     "text": [
      "10\n"
     ]
    }
   ],
   "source": [
    "numero = 7\n",
    "numero += 3\n",
    "print(numero)"
   ]
  },
  {
   "cell_type": "code",
   "execution_count": 10,
   "id": "f1bceb43-3773-4a7d-bb34-8b528bc95242",
   "metadata": {},
   "outputs": [
    {
     "name": "stdout",
     "output_type": "stream",
     "text": [
      "125\n"
     ]
    }
   ],
   "source": [
    "numero = 5\n",
    "numero = numero ** 3\n",
    "print(numero)"
   ]
  },
  {
   "cell_type": "code",
   "execution_count": 11,
   "id": "02412f7a-507a-4152-8029-b1909e2c0619",
   "metadata": {},
   "outputs": [],
   "source": [
    "# 5.3 Operadores de comparación"
   ]
  },
  {
   "cell_type": "code",
   "execution_count": 13,
   "id": "1b3f5522-9759-488d-9e70-0b3f1f6196c8",
   "metadata": {},
   "outputs": [
    {
     "data": {
      "text/plain": [
       "False"
      ]
     },
     "execution_count": 13,
     "metadata": {},
     "output_type": "execute_result"
    }
   ],
   "source": [
    "# Ejemplo de igualdad ==\n",
    "numero1 = 6\n",
    "numero2 = 5\n",
    "numero1 == numero2"
   ]
  },
  {
   "cell_type": "code",
   "execution_count": 15,
   "id": "35d2469e-5e6a-455c-8ecc-cea8912e13b9",
   "metadata": {},
   "outputs": [
    {
     "data": {
      "text/plain": [
       "True"
      ]
     },
     "execution_count": 15,
     "metadata": {},
     "output_type": "execute_result"
    }
   ],
   "source": [
    "# Con las cadenas funciona igual\n",
    "nombre1 = \"Maria\"\n",
    "nombre2 = \"Maria\"\n",
    "nombre1 == nombre2"
   ]
  },
  {
   "cell_type": "code",
   "execution_count": 16,
   "id": "e2c4ac71-65dd-4547-a3e5-6e0ea746e40b",
   "metadata": {},
   "outputs": [],
   "source": [
    "# 5.4 Operadores lógicos\n",
    "# Se tiene: and, or, not\n",
    "numero1 = 3\n",
    "numero2 = 4\n",
    "numero3 = 5\n",
    "numero4 = 6"
   ]
  },
  {
   "cell_type": "code",
   "execution_count": 17,
   "id": "84311a10-57ef-44ee-a4d0-ba2195a0c4c1",
   "metadata": {},
   "outputs": [
    {
     "data": {
      "text/plain": [
       "True"
      ]
     },
     "execution_count": 17,
     "metadata": {},
     "output_type": "execute_result"
    }
   ],
   "source": [
    "numero1 < numero2"
   ]
  },
  {
   "cell_type": "code",
   "execution_count": 18,
   "id": "58cb65e1-bbaf-458e-b0ac-4f7727771a59",
   "metadata": {},
   "outputs": [
    {
     "data": {
      "text/plain": [
       "False"
      ]
     },
     "execution_count": 18,
     "metadata": {},
     "output_type": "execute_result"
    }
   ],
   "source": [
    "# El not invierte el resultado\n",
    "not(numero1<numero2)"
   ]
  },
  {
   "cell_type": "code",
   "execution_count": 19,
   "id": "130e83e8-a067-4e37-99d5-378e7ea3ecf8",
   "metadata": {},
   "outputs": [],
   "source": [
    "# Miremos un ejemplo:"
   ]
  },
  {
   "cell_type": "code",
   "execution_count": 20,
   "id": "f0c7c015-aa3c-408a-b35c-449992031da6",
   "metadata": {},
   "outputs": [],
   "source": [
    "aula = [\"Juan\", \"Daniel\", \"Ruben\"]\n",
    "alumno1 = \"Diego\"\n",
    "alumno2 = \"Juan\""
   ]
  },
  {
   "cell_type": "code",
   "execution_count": 21,
   "id": "8382b691-f1cc-4767-b1da-9387852e3286",
   "metadata": {},
   "outputs": [
    {
     "data": {
      "text/plain": [
       "False"
      ]
     },
     "execution_count": 21,
     "metadata": {},
     "output_type": "execute_result"
    }
   ],
   "source": [
    "# ¿Diego está en aula?\n",
    "alumno1 in aula"
   ]
  },
  {
   "cell_type": "code",
   "execution_count": 22,
   "id": "22019dcc-5d0a-4a96-bca1-76c9149c5c57",
   "metadata": {},
   "outputs": [
    {
     "data": {
      "text/plain": [
       "True"
      ]
     },
     "execution_count": 22,
     "metadata": {},
     "output_type": "execute_result"
    }
   ],
   "source": [
    "# ¿Juan está en aula?\n",
    "alumno2 in aula"
   ]
  },
  {
   "cell_type": "code",
   "execution_count": 23,
   "id": "2f2425ca-9eae-4cb6-9f0b-2eef5fd62483",
   "metadata": {},
   "outputs": [
    {
     "data": {
      "text/plain": [
       "True"
      ]
     },
     "execution_count": 23,
     "metadata": {},
     "output_type": "execute_result"
    }
   ],
   "source": [
    "# ¿Diego no está en aula?\n",
    "alumno1 not in aula"
   ]
  },
  {
   "cell_type": "code",
   "execution_count": 24,
   "id": "377aaf8d-e8b3-4a96-abfe-13361fd36ab9",
   "metadata": {},
   "outputs": [],
   "source": [
    "aula1 = [\"Maria\", \"Alvaro\", \"Rubi\"]\n",
    "aula2 = [\"Maria\", \"Alvaro\", \"Rubi\"]\n",
    "# A continuación vamos a indicar que aula3 va a\n",
    "# compartir el mismo objeto que aula1\n",
    "aula3 = aula1"
   ]
  },
  {
   "cell_type": "code",
   "execution_count": 25,
   "id": "ff6ce251-28eb-4f41-9a75-95185a6bcdc5",
   "metadata": {},
   "outputs": [
    {
     "data": {
      "text/plain": [
       "True"
      ]
     },
     "execution_count": 25,
     "metadata": {},
     "output_type": "execute_result"
    }
   ],
   "source": [
    "# ¿aula3 comparte el mismo objeto que aula1 ?\n",
    "aula3 is aula1"
   ]
  },
  {
   "cell_type": "code",
   "execution_count": 26,
   "id": "efc28316-c19b-46bb-b236-72b5f53660c4",
   "metadata": {},
   "outputs": [
    {
     "data": {
      "text/plain": [
       "False"
      ]
     },
     "execution_count": 26,
     "metadata": {},
     "output_type": "execute_result"
    }
   ],
   "source": [
    "# ¿ aula3 comparte el mismo objeto que aula2 ?\n",
    "aula3 is aula2"
   ]
  },
  {
   "cell_type": "code",
   "execution_count": 28,
   "id": "4e2a1405-41fc-49f0-bf19-396da82ab7ae",
   "metadata": {},
   "outputs": [],
   "source": [
    "aula1.append(\"Maria\")"
   ]
  },
  {
   "cell_type": "code",
   "execution_count": 29,
   "id": "1e445de5-5ea0-4a12-a17a-8afc94990c7b",
   "metadata": {},
   "outputs": [
    {
     "name": "stdout",
     "output_type": "stream",
     "text": [
      "['Maria', 'Alvaro', 'Rubi', 'Diego', 'Maria']\n"
     ]
    }
   ],
   "source": [
    "# Al imprimir los elementos de la lista aula1 se observa\n",
    "print(aula1)"
   ]
  },
  {
   "cell_type": "code",
   "execution_count": 30,
   "id": "0dc257f4-a9a3-439b-80eb-f1dc1ee8f6b3",
   "metadata": {},
   "outputs": [
    {
     "name": "stdout",
     "output_type": "stream",
     "text": [
      "['Maria', 'Alvaro', 'Rubi', 'Diego', 'Maria']\n"
     ]
    }
   ],
   "source": [
    "# Al imprimir los elementos de la lista aula3 se observa\n",
    "print(aula3)"
   ]
  },
  {
   "cell_type": "code",
   "execution_count": 31,
   "id": "5e32fc53-5d9c-41e8-b67c-3cfaf4c0a58d",
   "metadata": {},
   "outputs": [
    {
     "name": "stdout",
     "output_type": "stream",
     "text": [
      "['Maria', 'Alvaro', 'Rubi']\n"
     ]
    }
   ],
   "source": [
    "# Al imprimir los elementos de la lista aula2 se observa\n",
    "print(aula2)"
   ]
  },
  {
   "cell_type": "code",
   "execution_count": null,
   "id": "5eee725e-e382-485c-a2a7-c3a80456f23f",
   "metadata": {},
   "outputs": [],
   "source": []
  }
 ],
 "metadata": {
  "kernelspec": {
   "display_name": "Python 3 (ipykernel)",
   "language": "python",
   "name": "python3"
  },
  "language_info": {
   "codemirror_mode": {
    "name": "ipython",
    "version": 3
   },
   "file_extension": ".py",
   "mimetype": "text/x-python",
   "name": "python",
   "nbconvert_exporter": "python",
   "pygments_lexer": "ipython3",
   "version": "3.11.7"
  }
 },
 "nbformat": 4,
 "nbformat_minor": 5
}
