{
 "cells": [
  {
   "cell_type": "raw",
   "id": "6f26d53b-d7d1-4207-9155-53df81e99a49",
   "metadata": {},
   "source": [
    "Agenda\n",
    "1.Numeros\n",
    "2.Variables\n",
    "3.Manejo de cadenas\n",
    "4.Ingreso por el teclado\n",
    "5.Operadoress"
   ]
  },
  {
   "cell_type": "raw",
   "id": "290bc2e4-6119-4a40-8ca5-6e2c0e1d9198",
   "metadata": {},
   "source": [
    "2.Variables"
   ]
  },
  {
   "cell_type": "code",
   "execution_count": null,
   "id": "cb80942c-a0b7-4927-86b1-f80c97ed0225",
   "metadata": {},
   "outputs": [],
   "source": [
    "#Se debe iniciar siempre con una letra o un guin abajo. (Nunca con un numero u otro simbolo)\n",
    "\n"
   ]
  },
  {
   "cell_type": "code",
   "execution_count": 1,
   "id": "4fa0348e-c859-4148-a422-f428851ab7cb",
   "metadata": {},
   "outputs": [],
   "source": [
    "edad = 21"
   ]
  },
  {
   "cell_type": "code",
   "execution_count": 2,
   "id": "ac0804b1-c365-45e4-a69b-7d9b4d61fe89",
   "metadata": {},
   "outputs": [
    {
     "data": {
      "text/plain": [
       "21"
      ]
     },
     "execution_count": 2,
     "metadata": {},
     "output_type": "execute_result"
    }
   ],
   "source": [
    "edad"
   ]
  },
  {
   "cell_type": "code",
   "execution_count": 4,
   "id": "dcc46df9-bc91-44f0-b755-165bde482b1a",
   "metadata": {},
   "outputs": [],
   "source": [
    "nombre = \"JeanPiere\""
   ]
  },
  {
   "cell_type": "code",
   "execution_count": 5,
   "id": "0a2aa709-8a5d-4d4b-97bc-4ce262aac6b4",
   "metadata": {},
   "outputs": [
    {
     "data": {
      "text/plain": [
       "'JeanPiere'"
      ]
     },
     "execution_count": 5,
     "metadata": {},
     "output_type": "execute_result"
    }
   ],
   "source": [
    "nombre"
   ]
  },
  {
   "cell_type": "code",
   "execution_count": 8,
   "id": "bbb6ac63-74c6-499b-981e-3de3c66436fa",
   "metadata": {},
   "outputs": [],
   "source": [
    "apellido = \"Barrios Quispe\""
   ]
  },
  {
   "cell_type": "code",
   "execution_count": 9,
   "id": "1479b9e7-9ffe-45e4-879b-e3e7944564cc",
   "metadata": {},
   "outputs": [
    {
     "data": {
      "text/plain": [
       "'Barrios Quispe'"
      ]
     },
     "execution_count": 9,
     "metadata": {},
     "output_type": "execute_result"
    }
   ],
   "source": [
    "apellido"
   ]
  },
  {
   "cell_type": "code",
   "execution_count": 10,
   "id": "aa64e0f1-d3d4-47ab-90bd-33fba637258e",
   "metadata": {},
   "outputs": [],
   "source": [
    "nombrecompleto = nombre + \" \" + apellido"
   ]
  },
  {
   "cell_type": "code",
   "execution_count": 11,
   "id": "0bc80f64-65d6-4fb4-9553-5d4bf26a6135",
   "metadata": {},
   "outputs": [
    {
     "data": {
      "text/plain": [
       "'JeanPiere Barrios Quispe'"
      ]
     },
     "execution_count": 11,
     "metadata": {},
     "output_type": "execute_result"
    }
   ],
   "source": [
    "nombrecompleto"
   ]
  },
  {
   "cell_type": "code",
   "execution_count": 12,
   "id": "101014a8-9052-4f7f-9971-5ae199276191",
   "metadata": {},
   "outputs": [
    {
     "data": {
      "text/plain": [
       "int"
      ]
     },
     "execution_count": 12,
     "metadata": {},
     "output_type": "execute_result"
    }
   ],
   "source": [
    "#Para saber el tipo de variable utlizamos la funcion type\n",
    "#Por ejemplo\n",
    "numero =  50\n",
    "type(numero)"
   ]
  },
  {
   "cell_type": "code",
   "execution_count": 13,
   "id": "7521f9bd-16e2-45c0-b31a-9c45930cc81a",
   "metadata": {},
   "outputs": [],
   "source": [
    "talla = 1.66"
   ]
  },
  {
   "cell_type": "code",
   "execution_count": 14,
   "id": "2d023429-e746-4948-88fd-721aa3fa7c5f",
   "metadata": {},
   "outputs": [
    {
     "data": {
      "text/plain": [
       "1.66"
      ]
     },
     "execution_count": 14,
     "metadata": {},
     "output_type": "execute_result"
    }
   ],
   "source": [
    "talla"
   ]
  },
  {
   "cell_type": "code",
   "execution_count": 15,
   "id": "32fea802-f52b-4dfe-8182-26a294b7a1ad",
   "metadata": {},
   "outputs": [
    {
     "data": {
      "text/plain": [
       "float"
      ]
     },
     "execution_count": 15,
     "metadata": {},
     "output_type": "execute_result"
    }
   ],
   "source": [
    "type(talla)"
   ]
  },
  {
   "cell_type": "code",
   "execution_count": 16,
   "id": "f2d092a1-55e3-4287-b20e-a5ccaff40da2",
   "metadata": {},
   "outputs": [
    {
     "data": {
      "text/plain": [
       "'100'"
      ]
     },
     "execution_count": 16,
     "metadata": {},
     "output_type": "execute_result"
    }
   ],
   "source": [
    "numero = 100\n",
    "cadena  = str(numero)\n",
    "cadena"
   ]
  },
  {
   "cell_type": "code",
   "execution_count": 17,
   "id": "6ca40318-2a5e-439b-944e-deea4664b1da",
   "metadata": {},
   "outputs": [
    {
     "data": {
      "text/plain": [
       "50"
      ]
     },
     "execution_count": 17,
     "metadata": {},
     "output_type": "execute_result"
    }
   ],
   "source": [
    "#Para convertir una cadena a un entero utilixamos float()\n",
    "cadena2 = \"50\"\n",
    "numero2 = int(cadena2)\n",
    "numero2"
   ]
  },
  {
   "cell_type": "code",
   "execution_count": 18,
   "id": "8a6ee20e-bfa1-4e57-a638-03661b350e63",
   "metadata": {},
   "outputs": [
    {
     "data": {
      "text/plain": [
       "int"
      ]
     },
     "execution_count": 18,
     "metadata": {},
     "output_type": "execute_result"
    }
   ],
   "source": [
    "type(numero2)"
   ]
  },
  {
   "cell_type": "code",
   "execution_count": 19,
   "id": "aa180d79-f288-4ef4-bb7b-2322c7345b98",
   "metadata": {},
   "outputs": [
    {
     "data": {
      "text/plain": [
       "50.0"
      ]
     },
     "execution_count": 19,
     "metadata": {},
     "output_type": "execute_result"
    }
   ],
   "source": [
    "#Para convertir una cadena a un decimal utilixamos float()\n",
    "cadena2 = \"50\"\n",
    "numero2 = float(cadena2)\n",
    "numero2"
   ]
  },
  {
   "cell_type": "code",
   "execution_count": null,
   "id": "a67bad3a-b44b-4e26-8377-e4b002e7dcdf",
   "metadata": {},
   "outputs": [],
   "source": []
  }
 ],
 "metadata": {
  "kernelspec": {
   "display_name": "Python 3 (ipykernel)",
   "language": "python",
   "name": "python3"
  },
  "language_info": {
   "codemirror_mode": {
    "name": "ipython",
    "version": 3
   },
   "file_extension": ".py",
   "mimetype": "text/x-python",
   "name": "python",
   "nbconvert_exporter": "python",
   "pygments_lexer": "ipython3",
   "version": "3.11.7"
  }
 },
 "nbformat": 4,
 "nbformat_minor": 5
}
